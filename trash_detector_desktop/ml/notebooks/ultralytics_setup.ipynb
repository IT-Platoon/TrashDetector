{
 "cells": [
  {
   "cell_type": "markdown",
   "id": "f1b08a05-ce64-4fcc-a09c-84807365eb69",
   "metadata": {},
   "source": [
    "# Настройка Ultralytics"
   ]
  },
  {
   "cell_type": "markdown",
   "id": "976a2350-582f-4fbf-a06b-3ce2b24ff060",
   "metadata": {},
   "source": [
    "## Настройка путей проекта"
   ]
  },
  {
   "cell_type": "code",
   "execution_count": null,
   "id": "27a7476d-7898-4a40-9ad3-4bdfd10014c4",
   "metadata": {},
   "outputs": [],
   "source": [
    "import os\n",
    "path = os.getcwd()\n",
    "ML_PATH = os.path.abspath(os.path.join(path, os.pardir))\n",
    "print(f'{ML_PATH = }')\n",
    "\n",
    "_ = !yolo settings datasets_dir={ML_PATH}\\dataset\n",
    "_ = !yolo settings weights_dir={ML_PATH}\\weights\n",
    "_ = !yolo settings runs_dir={ML_PATH}\\runs\n",
    "_"
   ]
  },
  {
   "cell_type": "markdown",
   "id": "1128f553-af9a-4882-86b7-2ec0b981c643",
   "metadata": {},
   "source": [
    "## Посмотреть инфу о видеокарте для CUDA"
   ]
  },
  {
   "cell_type": "code",
   "execution_count": null,
   "id": "b5389158-99db-4564-920a-b650795dfdd1",
   "metadata": {},
   "outputs": [],
   "source": [
    "import ultralytics\n",
    "ultralytics.checks()"
   ]
  },
  {
   "cell_type": "code",
   "execution_count": null,
   "id": "3555d9e2-b380-4106-b539-593b95d134d1",
   "metadata": {},
   "outputs": [],
   "source": [
    "!nvidia-smi"
   ]
  },
  {
   "cell_type": "code",
   "execution_count": null,
   "id": "0e985628-7631-4c9b-bb81-9ef0382bb6d2",
   "metadata": {},
   "outputs": [],
   "source": []
  }
 ],
 "metadata": {
  "kernelspec": {
   "display_name": "Python 3 (ipykernel)",
   "language": "python",
   "name": "python3"
  },
  "language_info": {
   "codemirror_mode": {
    "name": "ipython",
    "version": 3
   },
   "file_extension": ".py",
   "mimetype": "text/x-python",
   "name": "python",
   "nbconvert_exporter": "python",
   "pygments_lexer": "ipython3",
   "version": "3.11.5"
  }
 },
 "nbformat": 4,
 "nbformat_minor": 5
}
