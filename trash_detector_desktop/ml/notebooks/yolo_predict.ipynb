{
 "cells": [
  {
   "cell_type": "code",
   "execution_count": null,
   "id": "9fc86a79-6adc-4ee4-b7d0-78ca8938ad94",
   "metadata": {},
   "outputs": [],
   "source": [
    "from ultralytics import YOLO\n",
    "\n",
    "from typing import Dict, Union, Tuple, List, Optional\n",
    "from collections import Counter\n",
    "import os\n",
    "\n",
    "import matplotlib.pyplot as plt\n",
    "import pandas as pd"
   ]
  },
  {
   "cell_type": "markdown",
   "id": "5cc84d2b-a379-4ec6-9dc5-1a7b551845bf",
   "metadata": {},
   "source": [
    "# Гиперпараметры"
   ]
  },
  {
   "cell_type": "code",
   "execution_count": null,
   "id": "40d8b06a-7aec-4ddc-a8f9-8a0bf2ae386a",
   "metadata": {},
   "outputs": [],
   "source": [
    "# Данные для тестирования\n",
    "PATH_TO_TEST_DATASET = '../demo_dataset/images/'\n",
    "\n",
    "# Параметры для тестирования\n",
    "COMPARE_BY_COUNT = True  # Сравнивать по количеству, иначе по conf(достоверности предсказания)\n",
    "TEST_PARAMS = {\n",
    "    'verbose': False,\n",
    "    'conf': 0.25,  # порог достоверности обнаружения объекта, default=0.25\n",
    "    'iou': 0.3,  # пересечение порога объединения (IOU), default=0.7\n",
    "}"
   ]
  },
  {
   "cell_type": "markdown",
   "id": "85fbac92-d52a-4079-94fc-24935aa27d9a",
   "metadata": {},
   "source": [
    "Проверка GPU"
   ]
  },
  {
   "cell_type": "code",
   "execution_count": null,
   "id": "ea26817a-5749-45ca-8056-1e5c26c71cae",
   "metadata": {},
   "outputs": [],
   "source": [
    "import ultralytics\n",
    "ultralytics.checks()"
   ]
  },
  {
   "cell_type": "code",
   "execution_count": null,
   "id": "7534d7ab-d52b-437d-8c1e-66713f4d44da",
   "metadata": {},
   "outputs": [],
   "source": [
    "import torch\n",
    "\n",
    "cuda_flag = torch.cuda.is_available()\n",
    "device = 'cuda' if cuda_flag else 'cpu'\n",
    "device"
   ]
  },
  {
   "cell_type": "markdown",
   "id": "5205f38a-ae46-49e9-82d1-a38161830072",
   "metadata": {},
   "source": [
    "Необходимые функции"
   ]
  },
  {
   "cell_type": "code",
   "execution_count": null,
   "id": "507525c5-4191-4e4b-9fc2-8634a954c902",
   "metadata": {},
   "outputs": [],
   "source": [
    "def show_pred_img(preds: list, index_show: int) -> None:\n",
    "    \"\"\"Результат работы модели на одной картинке\"\"\"\n",
    "    img = preds[index_show].plot()\n",
    "    img = Image.fromarray(img[..., ::-1])\n",
    "    # display(img)\n",
    "    plt.figure(figsize=(5,5))\n",
    "    plt.axis('off')\n",
    "    plt.imshow(img)"
   ]
  },
  {
   "cell_type": "markdown",
   "id": "649f13ea-ce95-461b-87f8-4bb7e11447a7",
   "metadata": {},
   "source": [
    "# Predict"
   ]
  },
  {
   "cell_type": "code",
   "execution_count": null,
   "id": "b9f99d24-2b88-4036-88d2-7e234edbd5a6",
   "metadata": {},
   "outputs": [],
   "source": [
    "model = YOLO('../weights/best.pt')\n",
    "preds = model.predict(PATH_TO_TEST_DATASET, device=device, **TEST_PARAMS)"
   ]
  },
  {
   "cell_type": "code",
   "execution_count": null,
   "id": "d40c23b5-2d38-4e0b-b245-28be0ac758ee",
   "metadata": {},
   "outputs": [],
   "source": [
    "for i in range(min(len(preds), 5)):\n",
    "    show_pred_img(preds, i)"
   ]
  },
  {
   "cell_type": "markdown",
   "id": "8d7ad5b5-1c00-4d51-bcc6-8d3b16c990b6",
   "metadata": {},
   "source": [
    "# Ensemble"
   ]
  },
  {
   "cell_type": "code",
   "execution_count": null,
   "id": "8ffdfe63-8381-4300-bbd7-62d98cc17e6c",
   "metadata": {},
   "outputs": [],
   "source": [
    "from ensemble_boxes import *\n",
    "import cv2\n",
    "from random import randint\n",
    "\n",
    "\n",
    "def draw_boxes_from_list(path_to_image, boxes, labels, colors, names):\n",
    "    image = cv2.imread(path_to_image)\n",
    "    image = cv2.cvtColor(image, cv2.COLOR_BGR2RGB) \n",
    "    height, width, _ = image.shape\n",
    "\n",
    "    for object_, label_ in zip(boxes, labels):\n",
    "        color = colors[int(label_ + 1)]\n",
    "        x_min, y_min, x_max, y_max = object_\n",
    "        x_min = int(x_min * width)\n",
    "        y_min = int(y_min * height)\n",
    "        x_max = int(x_max * width)\n",
    "        y_max = int(y_max * height)\n",
    "\n",
    "        image = cv2.putText(\n",
    "            image, names[int(label_)], (int(x_min), int(y_min - 10)),\n",
    "            fontFace=cv2.FONT_HERSHEY_SIMPLEX, fontScale=1,\n",
    "            color=color, thickness=6,\n",
    "        )\n",
    "        image = cv2.rectangle(image, (x_min, y_min), (x_max, y_max), color=color, thickness=3)\n",
    "    return image\n",
    "\n",
    "\n",
    "def restructure_preds(yolo_pred):\n",
    "    \"\"\"\n",
    "    Формирует предскзаания моделей в необходимом формате:\n",
    "    return:\n",
    "        (координаты bbox, уверенность в предсказаниях, предсказанные лейблы)\n",
    "    \"\"\"\n",
    "    boxes_list, scores_list, labels_list = [], [], []\n",
    "    for object_ in yolo_pred[0].boxes:\n",
    "        boxes_list.extend(object_.xyxyn.tolist())\n",
    "        scores_list.extend(object_.conf.tolist())\n",
    "        labels_list.extend(object_.cls.tolist())\n",
    "    return boxes_list, scores_list, labels_list\n",
    "\n",
    "\n",
    "def ensemble_boxes(\n",
    "        models: List[YOLO],\n",
    "        path_to_image: str,\n",
    "        weights: Optional[List[float]] = None,\n",
    "        run_type: str = 'wbf',\n",
    "\n",
    "        iou_thr: float = 0.3,\n",
    "        skip_box_thr: float = 0.25,\n",
    "):\n",
    "    \"\"\"\n",
    "    Данная функция усредняет предсказания модели по боксам, исходя из ряда параметров\n",
    "\n",
    "    models: массив моделей, которые будут делать предсказание\n",
    "    path_to_image: путь до изображения для предсказания\n",
    "    weights: значимость каждой модели в ансамбле\n",
    "    run_type: тип усреднения\n",
    "    iou_thr: значение iou в совпадении полей\n",
    "    skip_box_thr: минимальная уверенность модели в предсказании\n",
    "    \"\"\"\n",
    "    if weights is None:\n",
    "        weights = [1 for _ in range(len(models))]\n",
    "\n",
    "    boxes_, scores_, labels_ = [], [], []\n",
    "    for i, model in enumerate(models):\n",
    "        yolo_model_predict = model.predict(path_to_image, device=device, verbose=False, conf=skip_box_thr, iou=iou_thr)\n",
    "        boxes_list, scores_list, labels_list = restructure_preds(yolo_model_predict)\n",
    "\n",
    "        boxes_.append(boxes_list)\n",
    "        scores_.append(scores_list)\n",
    "        labels_.append(labels_list)\n",
    "    \n",
    "    if run_type == 'wbf':\n",
    "        boxes, scores, labels = weighted_boxes_fusion(\n",
    "            boxes_,\n",
    "            scores_,\n",
    "            labels_,\n",
    "            weights=weights,\n",
    "            iou_thr=iou_thr,\n",
    "            skip_box_thr=skip_box_thr\n",
    "        )\n",
    "\n",
    "    elif run_type == 'non_maximum_weighted':\n",
    "        boxes, scores, labels = non_maximum_weighted(\n",
    "            boxes_,\n",
    "            scores_,\n",
    "            labels_,\n",
    "            weights=weights,\n",
    "            iou_thr=iou_thr,\n",
    "            skip_box_thr=skip_box_thr\n",
    "        )\n",
    "\n",
    "    else:\n",
    "        raise NotImplementedError(f\"{run_type} type method for ensembling boxes is not implemented. Available \"\n",
    "                                  f\"methods: ['non_maximum_weighted', 'wbf']\")\n",
    "    return boxes, scores, labels"
   ]
  },
  {
   "cell_type": "code",
   "execution_count": null,
   "id": "1bf43ff0-3629-4d53-a996-89a75da6a083",
   "metadata": {},
   "outputs": [],
   "source": [
    "model1 = YOLO('../weights/best.pt')\n",
    "model2 = YOLO('')\n",
    "\n",
    "models = [model1, ]\n",
    "weights = [1, ]\n",
    "\n",
    "COLORS = {name: [randint(0, 255),randint(0, 255),randint(0, 255)] for name in model1.names.keys()}\n",
    "NAMES = list(model1.names.values())\n",
    "\n",
    "for i, filename in enumerate(os.listdir(PATH_TO_TEST_DATASET)):\n",
    "    path = os.path.join(PATH_TO_TEST_DATASET, filename)\n",
    "    \n",
    "    boxes, scores, labels = ensemble_boxes(\n",
    "        models=models,\n",
    "        path_to_image=path,\n",
    "        weights=weights,\n",
    "        run_type='wbf',  # ['non_maximum_weighted', 'wbf']\n",
    "        iou_thr=TEST_PARAMS['iou'],\n",
    "        skip_box_thr=TEST_PARAMS['conf'],\n",
    "    )\n",
    "\n",
    "    result_image = draw_boxes_from_list(\n",
    "        path_to_image=path,\n",
    "        boxes=boxes,\n",
    "        labels=labels,\n",
    "        colors=COLORS,\n",
    "        names=NAMES,\n",
    "    )\n",
    "\n",
    "    if i < 6:\n",
    "        plt.figure(figsize=(5, 5))\n",
    "        plt.axis('off')\n",
    "        plt.imshow(result_image)"
   ]
  },
  {
   "cell_type": "code",
   "execution_count": null,
   "id": "8c89f368-b3af-4afe-8eca-a0ba2e3c7d4c",
   "metadata": {},
   "outputs": [],
   "source": []
  }
 ],
 "metadata": {
  "kernelspec": {
   "display_name": "Python 3 (ipykernel)",
   "language": "python",
   "name": "python3"
  },
  "language_info": {
   "codemirror_mode": {
    "name": "ipython",
    "version": 3
   },
   "file_extension": ".py",
   "mimetype": "text/x-python",
   "name": "python",
   "nbconvert_exporter": "python",
   "pygments_lexer": "ipython3",
   "version": "3.11.5"
  }
 },
 "nbformat": 4,
 "nbformat_minor": 5
}
